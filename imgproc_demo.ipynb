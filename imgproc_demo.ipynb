{
  "nbformat": 4,
  "nbformat_minor": 0,
  "metadata": {
    "colab": {
      "name": "imgproc_demo.ipynb",
      "version": "0.3.2",
      "provenance": [],
      "collapsed_sections": []
    },
    "kernelspec": {
      "name": "python3",
      "display_name": "Python 3"
    }
  },
  "cells": [
    {
      "cell_type": "markdown",
      "metadata": {
        "id": "_BFxVDSijMnY",
        "colab_type": "text"
      },
      "source": [
        "# Image proc demo\n",
        "線画生成のデモです。最初に画像URL入力フォームのセルを実行してください。正常に読み込まれれば指定した画像が表示されます。デフォルトの画像は先人に倣ってユーフォニアムの画像です。同じ画像ではありませんが。\n",
        "\n",
        "参考文献<br>\n",
        "https://qiita.com/khsk/items/6cf4bae0166e4b12b942<br>\n",
        "https://qiita.com/koshian2/items/f53088d1dedaa72f9dca\n"
      ]
    },
    {
      "cell_type": "code",
      "metadata": {
        "id": "lSMxzbzSOM8P",
        "colab_type": "code",
        "colab": {},
        "cellView": "form"
      },
      "source": [
        "from PIL import Image\n",
        "from matplotlib import  pyplot as plt\n",
        "import requests\n",
        "import io\n",
        "\n",
        "#@markdown 画像URL入力フォーム\n",
        "img_src = \"https://safebooru.org//samples/1836/sample_1e5bf82da7efac1596270ac57d53fd49ec1c2627.jpg\" #@param {type:\"string\"}\n",
        "\n",
        "img = Image.open(io.BytesIO(requests.get(img_src).content))\n",
        "plt.figure(figsize=(10,10),dpi=150)\n",
        "plt.imshow(img)"
      ],
      "execution_count": 0,
      "outputs": []
    },
    {
      "cell_type": "code",
      "metadata": {
        "id": "kFOOiG5lVcMi",
        "colab_type": "code",
        "colab": {},
        "cellView": "form"
      },
      "source": [
        "#@title Dilation demo\n",
        "#@markdown dilation paramater\n",
        "dilation_filtersize = 3 #@param [\"3\", \"5\", \"7\", \"9\", \"11\"]  {type:\"raw\"}\n",
        "dilation_times = 1 #@param [\"1\", \"2\", \"3\", \"4\", \"5\"] {type:\"raw\"}\n",
        "\n",
        "import numpy as np\n",
        "import tensorflow as tf\n",
        "\n",
        "def dilation(inputs, filtersize, name='dilation'):\n",
        "    assert filtersize % 2 == 1, 'filtersize must be odd.'\n",
        "    with tf.name_scope(name):\n",
        "        x = tf.nn.max_pool(inputs, [1, filtersize, filtersize, 1], [1, 1, 1, 1], 'SAME')\n",
        "    return x\n",
        "holder = tf.placeholder(tf.float32, [1, None, None, 3])\n",
        "gray_img = tf.image.rgb_to_grayscale(holder)\n",
        "image = gray_img\n",
        "for _ in range(dilation_times):\n",
        "  image = dilation(image, dilation_filtersize)\n",
        "difference = image - gray_img\n",
        "image = tf.squeeze(tf.cast(image*255.0, tf.uint8))\n",
        "difference = tf.squeeze(tf.cast((1.0 - difference)*255.0, tf.uint8))\n",
        "with tf.Session() as sess:\n",
        "  input_img = np.array(img.copy()).reshape((1, img.size[1], img.size[0], 3))/255.0\n",
        "  results = sess.run([image, difference], feed_dict={holder : input_img})\n",
        "print('dilated image')\n",
        "plt.figure(figsize=(10,10),dpi=150)\n",
        "plt.imshow(Image.fromarray(results[0]), cmap='gray')\n",
        "plt.show()\n",
        "print('difference image')\n",
        "plt.figure(figsize=(10,10),dpi=150)\n",
        "plt.imshow(Image.fromarray(results[1]), cmap='gray')\n",
        "plt.show()\n",
        "tf.reset_default_graph()"
      ],
      "execution_count": 0,
      "outputs": []
    },
    {
      "cell_type": "code",
      "metadata": {
        "id": "JezI5RqunOzC",
        "colab_type": "code",
        "colab": {},
        "cellView": "form"
      },
      "source": [
        "#@title Erosion demo\n",
        "#@markdown erosion paramater\n",
        "erosion_filtersize = 3 #@param [\"3\", \"5\", \"7\", \"9\", \"11\"]  {type:\"raw\"}\n",
        "erosion_times = 1 #@param [\"1\", \"2\", \"3\", \"4\", \"5\"] {type:\"raw\"}\n",
        "\n",
        "import numpy as np\n",
        "import tensorflow as tf\n",
        "\n",
        "def erosion(inputs, filtersize, name='erosion'):\n",
        "    assert filtersize % 2 == 1, 'filtersize must be odd.'\n",
        "    with tf.name_scope(name):\n",
        "        x = 1.0 - inputs\n",
        "        x = tf.nn.max_pool(x, [1, filtersize, filtersize, 1], [1, 1, 1, 1], 'SAME')\n",
        "        x = 1.0 - x\n",
        "    return x\n",
        "holder = tf.placeholder(tf.float32, [1, None, None, 3])\n",
        "gray_img = tf.image.rgb_to_grayscale(holder)\n",
        "image = gray_img\n",
        "for _ in range(dilation_times):\n",
        "  image = erosion(image, dilation_filtersize)\n",
        "difference = gray_img - image\n",
        "image = tf.squeeze(tf.cast(image*255.0, tf.uint8))\n",
        "difference = tf.squeeze(tf.cast((1.0 - difference)*255.0, tf.uint8))\n",
        "with tf.Session() as sess:\n",
        "  input_img = np.array(img.copy()).reshape((1, img.size[1], img.size[0], 3))/255.0\n",
        "  results = sess.run([image, difference], feed_dict={holder : input_img})\n",
        "print('eroded image')\n",
        "plt.figure(figsize=(10,10),dpi=150)\n",
        "plt.imshow(Image.fromarray(results[0]), cmap='gray')\n",
        "plt.show()\n",
        "print('difference image')\n",
        "plt.figure(figsize=(10,10),dpi=150)\n",
        "plt.imshow(Image.fromarray(results[1]), cmap='gray')\n",
        "plt.show()\n",
        "tf.reset_default_graph()"
      ],
      "execution_count": 0,
      "outputs": []
    },
    {
      "cell_type": "code",
      "metadata": {
        "id": "KIjyJs-0oFQf",
        "colab_type": "code",
        "colab": {},
        "cellView": "form"
      },
      "source": [
        "#@title Adaptive threshold demo\n",
        "#@markdown threshold paramater\n",
        "type_ = \"gaussian\" #@param [\"gaussian\", \"mean\"]\n",
        "filter_size = 3 #@param [\"3\", \"5\", \"7\", \"9\", \"11\"] {type:\"raw\"}\n",
        "sigma = 1.3 #@param {type:\"slider\", min:0.01, max:10, step:0.01}\n",
        "c_ = 2.0 #@param {type:\"slider\", min:0, max:255, step:0.01}\n",
        "\n",
        "\n",
        "def gaussian_kernel(ksize=3, sigma=1.3):\n",
        "    assert ksize % 2 == 1, 'kernel size must be odd.'\n",
        "    def gausian2d(x, y, sigma):\n",
        "        z = np.exp(-(x**2 + y**2) / (2 * sigma**2)) / (2 * np.pi * sigma**2)\n",
        "        return z\n",
        "    x = y = np.linspace(-sigma, sigma, num=ksize, dtype=np.float32)\n",
        "    x, y = np.meshgrid(x, y)\n",
        "    z = gausian2d(x, y, sigma)\n",
        "    kernel = z / np.sum(z)\n",
        "    return kernel\n",
        "\n",
        "def Adaptivethreshold(inputs, filtersize=3, threshold_type='gaussian', sigma=1.3, c=2.0):\n",
        "    with tf.name_scope('adaptive_threshold'):\n",
        "        if threshold_type == 'gaussian':\n",
        "            kernel = tf.constant(gaussian_kernel(ksize=filtersize, sigma=sigma).reshape(filtersize, filtersize, 1, 1), dtype=tf.float32, name='kernel')\n",
        "        else:\n",
        "            kernel = tf.ones([filtersize, filtersize, 1, 1]) / (filtersize**2)\n",
        "        mean = tf.nn.conv2d(inputs, kernel, [1, 1, 1, 1], 'SAME')\n",
        "        threshold = mean - (c / 255.0)\n",
        "        image = inputs - threshold\n",
        "        image = tf.clip_by_value(image, 0.0, 1.0)\n",
        "        image = tf.ceil(image)\n",
        "    return image\n",
        "\n",
        "holder = tf.placeholder(tf.float32, [1, None, None, 3])\n",
        "gray_img = tf.image.rgb_to_grayscale(holder)\n",
        "result = Adaptivethreshold(gray_img, filter_size, type_, sigma, c_)\n",
        "result = tf.cast(tf.squeeze(result*255.0), tf.uint8)\n",
        "\n",
        "with tf.Session() as sess:\n",
        "  input_img = np.array(img.copy()).reshape((1, img.size[1], img.size[0], 3))/255.0\n",
        "  result = sess.run(result, feed_dict={holder : input_img})\n",
        "print('Result')\n",
        "plt.figure(figsize=(10,10),dpi=150)\n",
        "plt.imshow(Image.fromarray(result), cmap='gray')\n",
        "plt.show()"
      ],
      "execution_count": 0,
      "outputs": []
    }
  ]
}